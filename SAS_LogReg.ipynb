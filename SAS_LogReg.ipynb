{
  "cells": [
    {
      "cell_type": "markdown",
      "metadata": {
        "id": "YLplTbwCIREQ"
      },
      "source": [
        "# SAS \n",
        "\n",
        "The steps below illustrates how to build a logistic regression model in SAS using synthetic data:"
      ]
    },
    {
      "cell_type": "code",
      "execution_count": 24,
      "metadata": {
        "colab": {
          "base_uri": "https://localhost:8080/"
        },
        "id": "kBczlcfFIRRR",
        "outputId": "50d72f91-c200-408e-d180-a50243166c58"
      },
      "outputs": [
        {
          "name": "stdout",
          "output_type": "stream",
          "text": [
            "Requirement already satisfied: saspy in /usr/local/lib/python3.11/dist-packages (5.103.0)\n"
          ]
        }
      ],
      "source": [
        "pip install saspy"
      ]
    },
    {
      "cell_type": "code",
      "execution_count": 25,
      "metadata": {
        "id": "LHbf-7FgIZa4"
      },
      "outputs": [],
      "source": [
        "import saspy"
      ]
    },
    {
      "cell_type": "markdown",
      "metadata": {
        "id": "7BtmEGpJBlty"
      },
      "source": [
        "\n",
        "\n",
        "## 1.Setting Up SAS Connection\n",
        "\n",
        "\n",
        "```python\n",
        "sas = saspy.SASsession()\n",
        "```\n",
        "\n",
        "For information on how to install and configure saspy, please refer to the official documentation:\n",
        "https://sassoftware.github.io/saspy/getting-started.html"
      ]
    },
    {
      "cell_type": "markdown",
      "metadata": {
        "id": "8Affq0sWESPx"
      },
      "source": [
        "\n",
        "## 2. Generating Synthetic Data\n",
        "\n",
        "We'll generate synthetic data using SAS and then load it into a Pandas DataFrame for further analysis.\n",
        "\n",
        "```python\n",
        "# SAS code to generate synthetic data\n",
        "sas_code = \"\"\"\n",
        "data synthetic_data;\n",
        "    call streaminit(12345);\n",
        "    do i = 1 to 1000;\n",
        "        credit_score = int(100 * ranuni(0)) + 300; /* Credit score between 300 and 400 */\n",
        "        income = 50000 + int(100000 * ranuni(0)); /* Income between 50,000 and 150,000 */\n",
        "        loan_amount = 10000 + int(100000 * ranuni(0)); /* Loan amount between 10,000 and 110,000 */\n",
        "        default = ranbin(0, 0.1); /* 10% default rate */\n",
        "        output;\n",
        "    end;\n",
        "    drop i;\n",
        "run;\n",
        "\"\"\"\n",
        "\n",
        "# Execute SAS code\n",
        "sas.submit(sas_code)\n",
        "\n",
        "# Load the synthetic data into a Pandas DataFrame\n",
        "synthetic_data = sas.sd2df('synthetic_data')\n",
        "synthetic_data.head()\n",
        "```\n",
        "\n",
        "## 3. Exploring the Data\n",
        "\n",
        "Let's explore the synthetic data using SAS procedures.\n",
        "\n",
        "```python\n",
        "# SAS code to explore the data\n",
        "sas_code = \"\"\"\n",
        "proc means data=synthetic_data;\n",
        "    var credit_score income loan_amount;\n",
        "run;\n",
        "\n",
        "proc freq data=synthetic_data;\n",
        "    tables default;\n",
        "run;\n",
        "\"\"\"\n",
        "\n",
        "# Execute SAS code\n",
        "sas.submit(sas_code)\n",
        "```\n",
        "\n",
        "## 4. Building a Logistic Regression Model\n",
        "\n",
        "We'll build a logistic regression model to predict the probability of default.\n",
        "\n",
        "```python\n",
        "# SAS code to build the logistic regression model\n",
        "sas_code = \"\"\"\n",
        "proc logistic data=synthetic_data;\n",
        "    model default = credit_score income loan_amount;\n",
        "    output out=preds p=pred_prob;\n",
        "run;\n",
        "\"\"\"\n",
        "\n",
        "# Execute SAS code\n",
        "sas.submit(sas_code)\n",
        "\n",
        "# Load the predictions into a Pandas DataFrame\n",
        "preds = sas.sd2df('preds')\n",
        "preds.head()\n",
        "```\n",
        "\n",
        "## 5. Evaluating the Model\n",
        "\n",
        "We'll evaluate the model's performance using the ROC curve.\n",
        "\n",
        "```python\n",
        "# SAS code to evaluate the model\n",
        "sas_code = \"\"\"\n",
        "proc roc data=preds;\n",
        "    plot pred_prob * default;\n",
        "run;\n",
        "\"\"\"\n",
        "\n",
        "# Execute SAS code\n",
        "sas.submit(sas_code)\n",
        "```\n",
        "\n",
        "## 6. Interpreting the Results\n",
        "\n",
        "The `proc logistic` output will provide coefficients, odds ratios, and other statistics that help interpret the model. The `proc roc` output will give you the AUC-ROC, which is a measure of the model's discriminative power.\n",
        "\n",
        "## 7. Summary\n",
        "\n",
        "This SAS code demonstrates the process of generating synthetic data, constructing a logistic regression model to predict default, and evaluating the model's performance using various statistical methods.\n"
      ]
    },
    {
      "cell_type": "markdown",
      "metadata": {
        "id": "yzxvRhUWGcnK"
      },
      "source": [
        "\n",
        "### In summary, here are the key features of SAS:\n",
        "\n",
        "SAS (Statistical Analysis System) is a powerful software suite used for advanced analytics, data management, and predictive analytics. It is widely employed in industries like healthcare, finance, and government for data analysis and reporting.\n",
        "\n",
        "**Key Features:**\n",
        "\n",
        "- **SAS Studio**: A web-based interface for coding.\n",
        "  \n",
        "- **SAS Enterprise Guide**: A user-friendly point-and-click interface.\n",
        "  \n",
        "- **Data Sets**: Fundamental units for storing and manipulating data.\n",
        "  ```sas\n",
        "  data mydata;\n",
        "      input name $ age height weight;\n",
        "      datalines;\n",
        "  John 25 70 150\n",
        "  Jane 30 65 120\n",
        "  ;\n",
        "  run;\n",
        "  ```\n",
        "\n",
        "- **Procedures**: Tools for specific tasks like data analysis.\n",
        "  ```sas\n",
        "  proc print data=mydata;\n",
        "  run;\n",
        "\n",
        "  proc means data=mydata;\n",
        "      var age height weight;\n",
        "  run;\n",
        "  ```\n",
        "\n",
        "- **Data Steps**: Used to create and modify data sets.\n",
        "  ```sas\n",
        "  data newdata;\n",
        "      set mydata;\n",
        "      bmi = weight / (height * height) * 703;\n",
        "  run;\n",
        "  ```\n",
        "\n",
        "- **Functions**: Built-in functions for calculations and data manipulation.\n",
        "  ```sas\n",
        "  total_weight = sum(weight);\n",
        "  avg_age = mean(age);\n",
        "  ```\n",
        "\n",
        "- **Macros**: Automate repetitive tasks with reusable code.\n",
        "  ```sas\n",
        "  %macro greet(name);\n",
        "      %put Hello, &name;\n",
        "  %mend;\n",
        "\n",
        "  %greet(John);\n",
        "  ```\n",
        "\n",
        "- **Output Management**: Control output using the Output Delivery System (ODS).\n",
        "  ```sas\n",
        "  ods listing file='output.txt';\n",
        "  proc print data=mydata;\n",
        "  run;\n",
        "  ods listing close;\n",
        "  ```\n",
        "\n",
        "- **Libraries**: Organize data sets like directories.\n",
        "  ```sas\n",
        "  libname mylib 'C:\\path\\to\\data';\n",
        "  data mylib.mydata;\n",
        "      input name $ age height weight;\n",
        "      datalines;\n",
        "  John 25 70 150\n",
        "  Jane 30 65 120\n",
        "  ;\n",
        "  run;\n",
        "  ```\n",
        "\n",
        "SAS requires a subscription for access, making it a robust tool for efficient data analysis and decision-making."
      ]
    }
  ],
  "metadata": {
    "colab": {
      "provenance": []
    },
    "kernelspec": {
      "display_name": "Python 3",
      "name": "python3"
    },
    "language_info": {
      "name": "python"
    }
  },
  "nbformat": 4,
  "nbformat_minor": 0
}
